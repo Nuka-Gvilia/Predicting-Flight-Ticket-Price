{
 "cells": [
  {
   "cell_type": "code",
   "execution_count": 1,
   "id": "febdb489",
   "metadata": {},
   "outputs": [],
   "source": [
    "# Import libraries \n",
    "import numpy as np \n",
    "import pandas as pd \n",
    "import matplotlib.pyplot as plt\n",
    "%matplotlib inline\n",
    "import seaborn as sns"
   ]
  },
  {
   "cell_type": "code",
   "execution_count": 2,
   "id": "4d06bac8",
   "metadata": {},
   "outputs": [],
   "source": [
    "df = pd.read_csv('flight data.csv')"
   ]
  },
  {
   "cell_type": "code",
   "execution_count": 3,
   "id": "25b24dbf",
   "metadata": {},
   "outputs": [],
   "source": [
    "df_test = pd.read_csv('flight test.csv')"
   ]
  },
  {
   "cell_type": "code",
   "execution_count": 4,
   "id": "b66af411",
   "metadata": {},
   "outputs": [
    {
     "data": {
      "text/html": [
       "<div>\n",
       "<style scoped>\n",
       "    .dataframe tbody tr th:only-of-type {\n",
       "        vertical-align: middle;\n",
       "    }\n",
       "\n",
       "    .dataframe tbody tr th {\n",
       "        vertical-align: top;\n",
       "    }\n",
       "\n",
       "    .dataframe thead th {\n",
       "        text-align: right;\n",
       "    }\n",
       "</style>\n",
       "<table border=\"1\" class=\"dataframe\">\n",
       "  <thead>\n",
       "    <tr style=\"text-align: right;\">\n",
       "      <th></th>\n",
       "      <th>Airline</th>\n",
       "      <th>Date_of_Journey</th>\n",
       "      <th>Source</th>\n",
       "      <th>Destination</th>\n",
       "      <th>Route</th>\n",
       "      <th>Dep_Time</th>\n",
       "      <th>Arrival_Time</th>\n",
       "      <th>Duration</th>\n",
       "      <th>Total_Stops</th>\n",
       "      <th>Additional_Info</th>\n",
       "      <th>Price</th>\n",
       "    </tr>\n",
       "  </thead>\n",
       "  <tbody>\n",
       "    <tr>\n",
       "      <th>0</th>\n",
       "      <td>IndiGo</td>\n",
       "      <td>24/03/2019</td>\n",
       "      <td>Banglore</td>\n",
       "      <td>New Delhi</td>\n",
       "      <td>BLR → DEL</td>\n",
       "      <td>22:20</td>\n",
       "      <td>01:10 22 Mar</td>\n",
       "      <td>2h 50m</td>\n",
       "      <td>non-stop</td>\n",
       "      <td>No info</td>\n",
       "      <td>3897</td>\n",
       "    </tr>\n",
       "    <tr>\n",
       "      <th>1</th>\n",
       "      <td>Air India</td>\n",
       "      <td>1/05/2019</td>\n",
       "      <td>Kolkata</td>\n",
       "      <td>Banglore</td>\n",
       "      <td>CCU → IXR → BBI → BLR</td>\n",
       "      <td>05:50</td>\n",
       "      <td>13:15</td>\n",
       "      <td>7h 25m</td>\n",
       "      <td>2 stops</td>\n",
       "      <td>No info</td>\n",
       "      <td>7662</td>\n",
       "    </tr>\n",
       "    <tr>\n",
       "      <th>2</th>\n",
       "      <td>Jet Airways</td>\n",
       "      <td>9/06/2019</td>\n",
       "      <td>Delhi</td>\n",
       "      <td>Cochin</td>\n",
       "      <td>DEL → LKO → BOM → COK</td>\n",
       "      <td>09:25</td>\n",
       "      <td>04:25 10 Jun</td>\n",
       "      <td>19h</td>\n",
       "      <td>2 stops</td>\n",
       "      <td>No info</td>\n",
       "      <td>13882</td>\n",
       "    </tr>\n",
       "    <tr>\n",
       "      <th>3</th>\n",
       "      <td>IndiGo</td>\n",
       "      <td>12/05/2019</td>\n",
       "      <td>Kolkata</td>\n",
       "      <td>Banglore</td>\n",
       "      <td>CCU → NAG → BLR</td>\n",
       "      <td>18:05</td>\n",
       "      <td>23:30</td>\n",
       "      <td>5h 25m</td>\n",
       "      <td>1 stop</td>\n",
       "      <td>No info</td>\n",
       "      <td>6218</td>\n",
       "    </tr>\n",
       "    <tr>\n",
       "      <th>4</th>\n",
       "      <td>IndiGo</td>\n",
       "      <td>01/03/2019</td>\n",
       "      <td>Banglore</td>\n",
       "      <td>New Delhi</td>\n",
       "      <td>BLR → NAG → DEL</td>\n",
       "      <td>16:50</td>\n",
       "      <td>21:35</td>\n",
       "      <td>4h 45m</td>\n",
       "      <td>1 stop</td>\n",
       "      <td>No info</td>\n",
       "      <td>13302</td>\n",
       "    </tr>\n",
       "  </tbody>\n",
       "</table>\n",
       "</div>"
      ],
      "text/plain": [
       "       Airline Date_of_Journey    Source Destination                  Route  \\\n",
       "0       IndiGo      24/03/2019  Banglore   New Delhi              BLR → DEL   \n",
       "1    Air India       1/05/2019   Kolkata    Banglore  CCU → IXR → BBI → BLR   \n",
       "2  Jet Airways       9/06/2019     Delhi      Cochin  DEL → LKO → BOM → COK   \n",
       "3       IndiGo      12/05/2019   Kolkata    Banglore        CCU → NAG → BLR   \n",
       "4       IndiGo      01/03/2019  Banglore   New Delhi        BLR → NAG → DEL   \n",
       "\n",
       "  Dep_Time  Arrival_Time Duration Total_Stops Additional_Info  Price  \n",
       "0    22:20  01:10 22 Mar   2h 50m    non-stop         No info   3897  \n",
       "1    05:50         13:15   7h 25m     2 stops         No info   7662  \n",
       "2    09:25  04:25 10 Jun      19h     2 stops         No info  13882  \n",
       "3    18:05         23:30   5h 25m      1 stop         No info   6218  \n",
       "4    16:50         21:35   4h 45m      1 stop         No info  13302  "
      ]
     },
     "execution_count": 4,
     "metadata": {},
     "output_type": "execute_result"
    }
   ],
   "source": [
    "df.head()"
   ]
  },
  {
   "cell_type": "code",
   "execution_count": 5,
   "id": "e89f6fc7",
   "metadata": {},
   "outputs": [
    {
     "data": {
      "text/html": [
       "<div>\n",
       "<style scoped>\n",
       "    .dataframe tbody tr th:only-of-type {\n",
       "        vertical-align: middle;\n",
       "    }\n",
       "\n",
       "    .dataframe tbody tr th {\n",
       "        vertical-align: top;\n",
       "    }\n",
       "\n",
       "    .dataframe thead th {\n",
       "        text-align: right;\n",
       "    }\n",
       "</style>\n",
       "<table border=\"1\" class=\"dataframe\">\n",
       "  <thead>\n",
       "    <tr style=\"text-align: right;\">\n",
       "      <th></th>\n",
       "      <th>Airline</th>\n",
       "      <th>Date_of_Journey</th>\n",
       "      <th>Source</th>\n",
       "      <th>Destination</th>\n",
       "      <th>Route</th>\n",
       "      <th>Dep_Time</th>\n",
       "      <th>Arrival_Time</th>\n",
       "      <th>Duration</th>\n",
       "      <th>Total_Stops</th>\n",
       "      <th>Additional_Info</th>\n",
       "    </tr>\n",
       "  </thead>\n",
       "  <tbody>\n",
       "    <tr>\n",
       "      <th>0</th>\n",
       "      <td>Jet Airways</td>\n",
       "      <td>6/06/2019</td>\n",
       "      <td>Delhi</td>\n",
       "      <td>Cochin</td>\n",
       "      <td>DEL → BOM → COK</td>\n",
       "      <td>17:30</td>\n",
       "      <td>04:25 07 Jun</td>\n",
       "      <td>10h 55m</td>\n",
       "      <td>1 stop</td>\n",
       "      <td>No info</td>\n",
       "    </tr>\n",
       "    <tr>\n",
       "      <th>1</th>\n",
       "      <td>IndiGo</td>\n",
       "      <td>12/05/2019</td>\n",
       "      <td>Kolkata</td>\n",
       "      <td>Banglore</td>\n",
       "      <td>CCU → MAA → BLR</td>\n",
       "      <td>06:20</td>\n",
       "      <td>10:20</td>\n",
       "      <td>4h</td>\n",
       "      <td>1 stop</td>\n",
       "      <td>No info</td>\n",
       "    </tr>\n",
       "    <tr>\n",
       "      <th>2</th>\n",
       "      <td>Jet Airways</td>\n",
       "      <td>21/05/2019</td>\n",
       "      <td>Delhi</td>\n",
       "      <td>Cochin</td>\n",
       "      <td>DEL → BOM → COK</td>\n",
       "      <td>19:15</td>\n",
       "      <td>19:00 22 May</td>\n",
       "      <td>23h 45m</td>\n",
       "      <td>1 stop</td>\n",
       "      <td>In-flight meal not included</td>\n",
       "    </tr>\n",
       "    <tr>\n",
       "      <th>3</th>\n",
       "      <td>Multiple carriers</td>\n",
       "      <td>21/05/2019</td>\n",
       "      <td>Delhi</td>\n",
       "      <td>Cochin</td>\n",
       "      <td>DEL → BOM → COK</td>\n",
       "      <td>08:00</td>\n",
       "      <td>21:00</td>\n",
       "      <td>13h</td>\n",
       "      <td>1 stop</td>\n",
       "      <td>No info</td>\n",
       "    </tr>\n",
       "    <tr>\n",
       "      <th>4</th>\n",
       "      <td>Air Asia</td>\n",
       "      <td>24/06/2019</td>\n",
       "      <td>Banglore</td>\n",
       "      <td>Delhi</td>\n",
       "      <td>BLR → DEL</td>\n",
       "      <td>23:55</td>\n",
       "      <td>02:45 25 Jun</td>\n",
       "      <td>2h 50m</td>\n",
       "      <td>non-stop</td>\n",
       "      <td>No info</td>\n",
       "    </tr>\n",
       "  </tbody>\n",
       "</table>\n",
       "</div>"
      ],
      "text/plain": [
       "             Airline Date_of_Journey    Source Destination            Route  \\\n",
       "0        Jet Airways       6/06/2019     Delhi      Cochin  DEL → BOM → COK   \n",
       "1             IndiGo      12/05/2019   Kolkata    Banglore  CCU → MAA → BLR   \n",
       "2        Jet Airways      21/05/2019     Delhi      Cochin  DEL → BOM → COK   \n",
       "3  Multiple carriers      21/05/2019     Delhi      Cochin  DEL → BOM → COK   \n",
       "4           Air Asia      24/06/2019  Banglore       Delhi        BLR → DEL   \n",
       "\n",
       "  Dep_Time  Arrival_Time Duration Total_Stops              Additional_Info  \n",
       "0    17:30  04:25 07 Jun  10h 55m      1 stop                      No info  \n",
       "1    06:20         10:20       4h      1 stop                      No info  \n",
       "2    19:15  19:00 22 May  23h 45m      1 stop  In-flight meal not included  \n",
       "3    08:00         21:00      13h      1 stop                      No info  \n",
       "4    23:55  02:45 25 Jun   2h 50m    non-stop                      No info  "
      ]
     },
     "execution_count": 5,
     "metadata": {},
     "output_type": "execute_result"
    }
   ],
   "source": [
    "df_test.head()"
   ]
  },
  {
   "cell_type": "code",
   "execution_count": 6,
   "id": "333cf4ce",
   "metadata": {},
   "outputs": [],
   "source": [
    "df_full = df.append(df_test, sort = False)"
   ]
  },
  {
   "cell_type": "code",
   "execution_count": 7,
   "id": "a4cef2d6",
   "metadata": {},
   "outputs": [
    {
     "data": {
      "text/html": [
       "<div>\n",
       "<style scoped>\n",
       "    .dataframe tbody tr th:only-of-type {\n",
       "        vertical-align: middle;\n",
       "    }\n",
       "\n",
       "    .dataframe tbody tr th {\n",
       "        vertical-align: top;\n",
       "    }\n",
       "\n",
       "    .dataframe thead th {\n",
       "        text-align: right;\n",
       "    }\n",
       "</style>\n",
       "<table border=\"1\" class=\"dataframe\">\n",
       "  <thead>\n",
       "    <tr style=\"text-align: right;\">\n",
       "      <th></th>\n",
       "      <th>Airline</th>\n",
       "      <th>Date_of_Journey</th>\n",
       "      <th>Source</th>\n",
       "      <th>Destination</th>\n",
       "      <th>Route</th>\n",
       "      <th>Dep_Time</th>\n",
       "      <th>Arrival_Time</th>\n",
       "      <th>Duration</th>\n",
       "      <th>Total_Stops</th>\n",
       "      <th>Additional_Info</th>\n",
       "      <th>Price</th>\n",
       "    </tr>\n",
       "  </thead>\n",
       "  <tbody>\n",
       "    <tr>\n",
       "      <th>0</th>\n",
       "      <td>IndiGo</td>\n",
       "      <td>24/03/2019</td>\n",
       "      <td>Banglore</td>\n",
       "      <td>New Delhi</td>\n",
       "      <td>BLR → DEL</td>\n",
       "      <td>22:20</td>\n",
       "      <td>01:10 22 Mar</td>\n",
       "      <td>2h 50m</td>\n",
       "      <td>non-stop</td>\n",
       "      <td>No info</td>\n",
       "      <td>3897.0</td>\n",
       "    </tr>\n",
       "    <tr>\n",
       "      <th>1</th>\n",
       "      <td>Air India</td>\n",
       "      <td>1/05/2019</td>\n",
       "      <td>Kolkata</td>\n",
       "      <td>Banglore</td>\n",
       "      <td>CCU → IXR → BBI → BLR</td>\n",
       "      <td>05:50</td>\n",
       "      <td>13:15</td>\n",
       "      <td>7h 25m</td>\n",
       "      <td>2 stops</td>\n",
       "      <td>No info</td>\n",
       "      <td>7662.0</td>\n",
       "    </tr>\n",
       "    <tr>\n",
       "      <th>2</th>\n",
       "      <td>Jet Airways</td>\n",
       "      <td>9/06/2019</td>\n",
       "      <td>Delhi</td>\n",
       "      <td>Cochin</td>\n",
       "      <td>DEL → LKO → BOM → COK</td>\n",
       "      <td>09:25</td>\n",
       "      <td>04:25 10 Jun</td>\n",
       "      <td>19h</td>\n",
       "      <td>2 stops</td>\n",
       "      <td>No info</td>\n",
       "      <td>13882.0</td>\n",
       "    </tr>\n",
       "    <tr>\n",
       "      <th>3</th>\n",
       "      <td>IndiGo</td>\n",
       "      <td>12/05/2019</td>\n",
       "      <td>Kolkata</td>\n",
       "      <td>Banglore</td>\n",
       "      <td>CCU → NAG → BLR</td>\n",
       "      <td>18:05</td>\n",
       "      <td>23:30</td>\n",
       "      <td>5h 25m</td>\n",
       "      <td>1 stop</td>\n",
       "      <td>No info</td>\n",
       "      <td>6218.0</td>\n",
       "    </tr>\n",
       "    <tr>\n",
       "      <th>4</th>\n",
       "      <td>IndiGo</td>\n",
       "      <td>01/03/2019</td>\n",
       "      <td>Banglore</td>\n",
       "      <td>New Delhi</td>\n",
       "      <td>BLR → NAG → DEL</td>\n",
       "      <td>16:50</td>\n",
       "      <td>21:35</td>\n",
       "      <td>4h 45m</td>\n",
       "      <td>1 stop</td>\n",
       "      <td>No info</td>\n",
       "      <td>13302.0</td>\n",
       "    </tr>\n",
       "  </tbody>\n",
       "</table>\n",
       "</div>"
      ],
      "text/plain": [
       "       Airline Date_of_Journey    Source Destination                  Route  \\\n",
       "0       IndiGo      24/03/2019  Banglore   New Delhi              BLR → DEL   \n",
       "1    Air India       1/05/2019   Kolkata    Banglore  CCU → IXR → BBI → BLR   \n",
       "2  Jet Airways       9/06/2019     Delhi      Cochin  DEL → LKO → BOM → COK   \n",
       "3       IndiGo      12/05/2019   Kolkata    Banglore        CCU → NAG → BLR   \n",
       "4       IndiGo      01/03/2019  Banglore   New Delhi        BLR → NAG → DEL   \n",
       "\n",
       "  Dep_Time  Arrival_Time Duration Total_Stops Additional_Info    Price  \n",
       "0    22:20  01:10 22 Mar   2h 50m    non-stop         No info   3897.0  \n",
       "1    05:50         13:15   7h 25m     2 stops         No info   7662.0  \n",
       "2    09:25  04:25 10 Jun      19h     2 stops         No info  13882.0  \n",
       "3    18:05         23:30   5h 25m      1 stop         No info   6218.0  \n",
       "4    16:50         21:35   4h 45m      1 stop         No info  13302.0  "
      ]
     },
     "execution_count": 7,
     "metadata": {},
     "output_type": "execute_result"
    }
   ],
   "source": [
    "df_full.head()"
   ]
  },
  {
   "cell_type": "code",
   "execution_count": 8,
   "id": "63291730",
   "metadata": {},
   "outputs": [
    {
     "data": {
      "text/html": [
       "<div>\n",
       "<style scoped>\n",
       "    .dataframe tbody tr th:only-of-type {\n",
       "        vertical-align: middle;\n",
       "    }\n",
       "\n",
       "    .dataframe tbody tr th {\n",
       "        vertical-align: top;\n",
       "    }\n",
       "\n",
       "    .dataframe thead th {\n",
       "        text-align: right;\n",
       "    }\n",
       "</style>\n",
       "<table border=\"1\" class=\"dataframe\">\n",
       "  <thead>\n",
       "    <tr style=\"text-align: right;\">\n",
       "      <th></th>\n",
       "      <th>Airline</th>\n",
       "      <th>Date_of_Journey</th>\n",
       "      <th>Source</th>\n",
       "      <th>Destination</th>\n",
       "      <th>Route</th>\n",
       "      <th>Dep_Time</th>\n",
       "      <th>Arrival_Time</th>\n",
       "      <th>Duration</th>\n",
       "      <th>Total_Stops</th>\n",
       "      <th>Additional_Info</th>\n",
       "      <th>Price</th>\n",
       "    </tr>\n",
       "  </thead>\n",
       "  <tbody>\n",
       "    <tr>\n",
       "      <th>2666</th>\n",
       "      <td>Air India</td>\n",
       "      <td>6/06/2019</td>\n",
       "      <td>Kolkata</td>\n",
       "      <td>Banglore</td>\n",
       "      <td>CCU → DEL → BLR</td>\n",
       "      <td>20:30</td>\n",
       "      <td>20:25 07 Jun</td>\n",
       "      <td>23h 55m</td>\n",
       "      <td>1 stop</td>\n",
       "      <td>No info</td>\n",
       "      <td>NaN</td>\n",
       "    </tr>\n",
       "    <tr>\n",
       "      <th>2667</th>\n",
       "      <td>IndiGo</td>\n",
       "      <td>27/03/2019</td>\n",
       "      <td>Kolkata</td>\n",
       "      <td>Banglore</td>\n",
       "      <td>CCU → BLR</td>\n",
       "      <td>14:20</td>\n",
       "      <td>16:55</td>\n",
       "      <td>2h 35m</td>\n",
       "      <td>non-stop</td>\n",
       "      <td>No info</td>\n",
       "      <td>NaN</td>\n",
       "    </tr>\n",
       "    <tr>\n",
       "      <th>2668</th>\n",
       "      <td>Jet Airways</td>\n",
       "      <td>6/03/2019</td>\n",
       "      <td>Delhi</td>\n",
       "      <td>Cochin</td>\n",
       "      <td>DEL → BOM → COK</td>\n",
       "      <td>21:50</td>\n",
       "      <td>04:25 07 Mar</td>\n",
       "      <td>6h 35m</td>\n",
       "      <td>1 stop</td>\n",
       "      <td>No info</td>\n",
       "      <td>NaN</td>\n",
       "    </tr>\n",
       "    <tr>\n",
       "      <th>2669</th>\n",
       "      <td>Air India</td>\n",
       "      <td>6/03/2019</td>\n",
       "      <td>Delhi</td>\n",
       "      <td>Cochin</td>\n",
       "      <td>DEL → BOM → COK</td>\n",
       "      <td>04:00</td>\n",
       "      <td>19:15</td>\n",
       "      <td>15h 15m</td>\n",
       "      <td>1 stop</td>\n",
       "      <td>No info</td>\n",
       "      <td>NaN</td>\n",
       "    </tr>\n",
       "    <tr>\n",
       "      <th>2670</th>\n",
       "      <td>Multiple carriers</td>\n",
       "      <td>15/06/2019</td>\n",
       "      <td>Delhi</td>\n",
       "      <td>Cochin</td>\n",
       "      <td>DEL → BOM → COK</td>\n",
       "      <td>04:55</td>\n",
       "      <td>19:15</td>\n",
       "      <td>14h 20m</td>\n",
       "      <td>1 stop</td>\n",
       "      <td>No info</td>\n",
       "      <td>NaN</td>\n",
       "    </tr>\n",
       "  </tbody>\n",
       "</table>\n",
       "</div>"
      ],
      "text/plain": [
       "                Airline Date_of_Journey   Source Destination            Route  \\\n",
       "2666          Air India       6/06/2019  Kolkata    Banglore  CCU → DEL → BLR   \n",
       "2667             IndiGo      27/03/2019  Kolkata    Banglore        CCU → BLR   \n",
       "2668        Jet Airways       6/03/2019    Delhi      Cochin  DEL → BOM → COK   \n",
       "2669          Air India       6/03/2019    Delhi      Cochin  DEL → BOM → COK   \n",
       "2670  Multiple carriers      15/06/2019    Delhi      Cochin  DEL → BOM → COK   \n",
       "\n",
       "     Dep_Time  Arrival_Time Duration Total_Stops Additional_Info  Price  \n",
       "2666    20:30  20:25 07 Jun  23h 55m      1 stop         No info    NaN  \n",
       "2667    14:20         16:55   2h 35m    non-stop         No info    NaN  \n",
       "2668    21:50  04:25 07 Mar   6h 35m      1 stop         No info    NaN  \n",
       "2669    04:00         19:15  15h 15m      1 stop         No info    NaN  \n",
       "2670    04:55         19:15  14h 20m      1 stop         No info    NaN  "
      ]
     },
     "execution_count": 8,
     "metadata": {},
     "output_type": "execute_result"
    }
   ],
   "source": [
    "df_full.tail()"
   ]
  },
  {
   "cell_type": "markdown",
   "id": "bb053e71",
   "metadata": {},
   "source": [
    "### Variables"
   ]
  },
  {
   "cell_type": "markdown",
   "id": "74a9b754",
   "metadata": {},
   "source": [
    "Airline: name of the airline\n",
    "\n",
    "Date_of_Journey: date of the flight \n",
    "\n",
    "Source: the source from where the plane departed (city)\n",
    "\n",
    "Destination: final destination of the flight (city)\n",
    "\n",
    "Route: outline of the full route of the flight\n",
    "\n",
    "Dep_Time: departure time \n",
    "\n",
    "Arrival_Time: arrival time \n",
    "\n",
    "Duration: total duration of the journey \n",
    "\n",
    "Total_Stops: number of stops between the source and the destination \n",
    "\n",
    "Additional_Info: additional information about the flight \n",
    "\n",
    "Price: price of the ticket "
   ]
  },
  {
   "cell_type": "markdown",
   "id": "de89ec51",
   "metadata": {},
   "source": [
    "### The dataset "
   ]
  },
  {
   "cell_type": "code",
   "execution_count": 99,
   "id": "91e12ba2",
   "metadata": {},
   "outputs": [
    {
     "data": {
      "text/plain": [
       "Jet Airways                          3849\n",
       "IndiGo                               2053\n",
       "Air India                            1752\n",
       "Multiple carriers                    1196\n",
       "SpiceJet                              818\n",
       "Vistara                               479\n",
       "Air Asia                              319\n",
       "GoAir                                 194\n",
       "Multiple carriers Premium economy      13\n",
       "Jet Airways Business                    6\n",
       "Vistara Premium economy                 3\n",
       "Trujet                                  1\n",
       "Name: Airline, dtype: int64"
      ]
     },
     "execution_count": 99,
     "metadata": {},
     "output_type": "execute_result"
    }
   ],
   "source": [
    "df['Airline'].value_counts()  # Obtain a list of all airline companies "
   ]
  },
  {
   "cell_type": "code",
   "execution_count": 100,
   "id": "9d43ed1c",
   "metadata": {},
   "outputs": [
    {
     "data": {
      "text/plain": [
       "<seaborn.axisgrid.FacetGrid at 0x7fbd717b7340>"
      ]
     },
     "execution_count": 100,
     "metadata": {},
     "output_type": "execute_result"
    },
    {
     "data": {
      "image/png": "[encoded data removed]",
      "text/plain": [
       "<Figure size 1296x432 with 1 Axes>"
      ]
     },
     "metadata": {
      "needs_background": "light"
     },
     "output_type": "display_data"
    }
   ],
   "source": [
    "sns.catplot(y = 'Price', x = 'Airline', data = df.sort_values('Price', ascending = False), kind = 'boxen', height = 6, aspect = 3)"
   ]
  },
  {
   "cell_type": "markdown",
   "id": "6887ab77",
   "metadata": {},
   "source": [
    "Jet Airways has the highest fares. "
   ]
  },
  {
   "cell_type": "code",
   "execution_count": 101,
   "id": "33eda716",
   "metadata": {},
   "outputs": [
    {
     "data": {
      "text/plain": [
       "Delhi       4537\n",
       "Kolkata     2871\n",
       "Banglore    2197\n",
       "Mumbai       697\n",
       "Chennai      381\n",
       "Name: Source, dtype: int64"
      ]
     },
     "execution_count": 101,
     "metadata": {},
     "output_type": "execute_result"
    }
   ],
   "source": [
    "df['Source'].value_counts()   # Obtain a list of flight sources"
   ]
  },
  {
   "cell_type": "code",
   "execution_count": 102,
   "id": "8dd4dcad",
   "metadata": {},
   "outputs": [
    {
     "data": {
      "text/plain": [
       "<seaborn.axisgrid.FacetGrid at 0x7fbdf0936730>"
      ]
     },
     "execution_count": 102,
     "metadata": {},
     "output_type": "execute_result"
    },
    {
     "data": {
      "image/png": "[encoded data removed]",
      "text/plain": [
       "<Figure size 1296x432 with 1 Axes>"
      ]
     },
     "metadata": {
      "needs_background": "light"
     },
     "output_type": "display_data"
    }
   ],
   "source": [
    "sns.catplot(y = 'Price', x = 'Source', data = df.sort_values('Price', ascending = False), kind = 'boxen', height = 6, aspect = 3)"
   ]
  },
  {
   "cell_type": "code",
   "execution_count": 103,
   "id": "c05d2fb5",
   "metadata": {},
   "outputs": [
    {
     "data": {
      "text/plain": [
       "Cochin       4537\n",
       "Banglore     2871\n",
       "Delhi        1265\n",
       "New Delhi     932\n",
       "Hyderabad     697\n",
       "Kolkata       381\n",
       "Name: Destination, dtype: int64"
      ]
     },
     "execution_count": 103,
     "metadata": {},
     "output_type": "execute_result"
    }
   ],
   "source": [
    "df['Destination'].value_counts()  # Obtain a list of flight destinations "
   ]
  },
  {
   "cell_type": "code",
   "execution_count": 104,
   "id": "b4cf48d3",
   "metadata": {},
   "outputs": [
    {
     "data": {
      "text/plain": [
       "<seaborn.axisgrid.FacetGrid at 0x7fbdf4f37d90>"
      ]
     },
     "execution_count": 104,
     "metadata": {},
     "output_type": "execute_result"
    },
    {
     "data": {
      "image/png": "[encoded data removed]",
      "text/plain": [
       "<Figure size 1296x432 with 1 Axes>"
      ]
     },
     "metadata": {
      "needs_background": "light"
     },
     "output_type": "display_data"
    }
   ],
   "source": [
    "sns.catplot(y = 'Price', x = 'Destination', data = df.sort_values('Price', ascending = False), kind = 'boxen', height = 6, aspect = 3)"
   ]
  },
  {
   "cell_type": "code",
   "execution_count": 105,
   "id": "c50f620c",
   "metadata": {},
   "outputs": [
    {
     "data": {
      "text/plain": [
       "1 stop      5625\n",
       "non-stop    3491\n",
       "2 stops     1520\n",
       "3 stops       45\n",
       "4 stops        1\n",
       "Name: Total_Stops, dtype: int64"
      ]
     },
     "execution_count": 105,
     "metadata": {},
     "output_type": "execute_result"
    }
   ],
   "source": [
    "df['Total_Stops'].value_counts()  # Obtain a list of total stops during journeys"
   ]
  },
  {
   "cell_type": "code",
   "execution_count": 106,
   "id": "d9b995d0",
   "metadata": {},
   "outputs": [
    {
     "data": {
      "text/plain": [
       "<seaborn.axisgrid.FacetGrid at 0x7fbde5702040>"
      ]
     },
     "execution_count": 106,
     "metadata": {},
     "output_type": "execute_result"
    },
    {
     "data": {
      "image/png": "[encoded data removed]",
      "text/plain": [
       "<Figure size 1440x720 with 1 Axes>"
      ]
     },
     "metadata": {
      "needs_background": "light"
     },
     "output_type": "display_data"
    }
   ],
   "source": [
    "sns.catplot(y = 'Price', x = 'Total_Stops', data = df.sort_values('Price', ascending = False), kind = 'boxen', height = 10, aspect = 2)"
   ]
  },
  {
   "cell_type": "markdown",
   "id": "f445eedd",
   "metadata": {},
   "source": [
    "### Feature Engineering"
   ]
  },
  {
   "cell_type": "code",
   "execution_count": 107,
   "id": "8d4e77b7",
   "metadata": {},
   "outputs": [],
   "source": [
    "df_full['Day'] = df_full['Date_of_Journey'].str.split('/').str[0]\n",
    "df_full['Month'] = df_full['Date_of_Journey'].str.split('/').str[1]\n",
    "df_full['Year'] = df_full['Date_of_Journey'].str.split('/').str[2]"
   ]
  },
  {
   "cell_type": "code",
   "execution_count": 108,
   "id": "0fa120c4",
   "metadata": {},
   "outputs": [],
   "source": [
    "df_full = df_full.drop(['Date_of_Journey'], axis = 1)"
   ]
  },
  {
   "cell_type": "code",
   "execution_count": 109,
   "id": "f2011cf0",
   "metadata": {},
   "outputs": [
    {
     "data": {
      "text/plain": [
       "Airline             object\n",
       "Source              object\n",
       "Destination         object\n",
       "Route               object\n",
       "Dep_Time            object\n",
       "Arrival_Time        object\n",
       "Duration            object\n",
       "Total_Stops         object\n",
       "Additional_Info     object\n",
       "Price              float64\n",
       "Day                 object\n",
       "Month               object\n",
       "Year                object\n",
       "dtype: object"
      ]
     },
     "execution_count": 109,
     "metadata": {},
     "output_type": "execute_result"
    }
   ],
   "source": [
    "df_full.dtypes"
   ]
  },
  {
   "cell_type": "code",
   "execution_count": 110,
   "id": "359733a9",
   "metadata": {},
   "outputs": [],
   "source": [
    "df_full['Day'] = df_full['Day'].astype(int)\n",
    "df_full['Month'] = df_full['Month'].astype(int)\n",
    "df_full['Year'] = df_full['Year'].astype(int)"
   ]
  },
  {
   "cell_type": "code",
   "execution_count": 111,
   "id": "06cff259",
   "metadata": {},
   "outputs": [],
   "source": [
    "df_full['Arrival_Time'] = df_full['Arrival_Time'].str.split(' ').str[0]"
   ]
  },
  {
   "cell_type": "code",
   "execution_count": 112,
   "id": "eba329d7",
   "metadata": {},
   "outputs": [],
   "source": [
    "df_full['Total_Stops'] = df_full['Total_Stops'].replace('non-stop', '0 stops')"
   ]
  },
  {
   "cell_type": "code",
   "execution_count": 113,
   "id": "d60aabca",
   "metadata": {},
   "outputs": [],
   "source": [
    "df_full['Num_Stops'] = df_full['Total_Stops'].str.split(' ').str[0]"
   ]
  },
  {
   "cell_type": "code",
   "execution_count": 114,
   "id": "8d50bd67",
   "metadata": {},
   "outputs": [
    {
     "data": {
      "text/plain": [
       "1"
      ]
     },
     "execution_count": 114,
     "metadata": {},
     "output_type": "execute_result"
    }
   ],
   "source": [
    "df_full['Num_Stops'].isnull().sum()"
   ]
  },
  {
   "cell_type": "code",
   "execution_count": 115,
   "id": "bfd8bcfe",
   "metadata": {},
   "outputs": [],
   "source": [
    "df_full['Num_Stops'] = df_full['Num_Stops'].fillna(1)"
   ]
  },
  {
   "cell_type": "code",
   "execution_count": 116,
   "id": "89317e70",
   "metadata": {},
   "outputs": [],
   "source": [
    "df_full['Num_Stops'] = df_full['Num_Stops'].astype(int)"
   ]
  },
  {
   "cell_type": "code",
   "execution_count": 117,
   "id": "de7ebb7f",
   "metadata": {},
   "outputs": [],
   "source": [
    "df_full = df_full.drop(['Total_Stops'], axis = 1)"
   ]
  },
  {
   "cell_type": "code",
   "execution_count": 118,
   "id": "3e076da1",
   "metadata": {},
   "outputs": [],
   "source": [
    "df_full['Departure_Hour'] = df_full['Dep_Time'].str.split(':').str[0]\n",
    "df_full['Departure_Minute'] = df_full['Dep_Time'].str.split(':').str[1]"
   ]
  },
  {
   "cell_type": "code",
   "execution_count": 119,
   "id": "222d0326",
   "metadata": {},
   "outputs": [],
   "source": [
    "df_full = df_full.drop(['Dep_Time'], axis = 1)"
   ]
  },
  {
   "cell_type": "code",
   "execution_count": 120,
   "id": "998f6cb9",
   "metadata": {},
   "outputs": [],
   "source": [
    "df_full['Arrival_Hour'] = df_full['Arrival_Time'].str.split(':').str[0]\n",
    "df_full['Arrival_Minute'] = df_full['Arrival_Time'].str.split(':').str[1]"
   ]
  },
  {
   "cell_type": "code",
   "execution_count": 121,
   "id": "205f9c52",
   "metadata": {},
   "outputs": [],
   "source": [
    "df_full = df_full.drop(['Arrival_Time'], axis = 1)"
   ]
  },
  {
   "cell_type": "code",
   "execution_count": 122,
   "id": "ff602858",
   "metadata": {},
   "outputs": [],
   "source": [
    "df_full['Stop_1'] = df_full['Route'].str.split('-> ').str[0]\n",
    "df_full['Stop_2'] = df_full['Route'].str.split('-> ').str[1]\n",
    "df_full['Stop_3'] = df_full['Route'].str.split('-> ').str[2]\n",
    "df_full['Stop_4'] = df_full['Route'].str.split('-> ').str[3]\n",
    "df_full['Stop_5'] = df_full['Route'].str.split('-> ').str[4]"
   ]
  },
  {
   "cell_type": "code",
   "execution_count": 123,
   "id": "3bbaf0bb",
   "metadata": {},
   "outputs": [],
   "source": [
    "df_full = df_full.drop(['Route'], axis = 1)\n",
    "df_full = df_full.drop(['Duration'], axis = 1)\n",
    "df_full = df_full.drop(['Year'], axis = 1)"
   ]
  },
  {
   "cell_type": "code",
   "execution_count": 124,
   "id": "0703e142",
   "metadata": {},
   "outputs": [],
   "source": [
    "df_full['Price'].fillna((df_full['Price'].mean()), inplace = True)"
   ]
  },
  {
   "cell_type": "code",
   "execution_count": 125,
   "id": "45181913",
   "metadata": {},
   "outputs": [],
   "source": [
    "from sklearn.preprocessing import LabelEncoder"
   ]
  },
  {
   "cell_type": "code",
   "execution_count": 126,
   "id": "dc2c12ae",
   "metadata": {},
   "outputs": [],
   "source": [
    "le = LabelEncoder()"
   ]
  },
  {
   "cell_type": "code",
   "execution_count": 127,
   "id": "49900d0d",
   "metadata": {},
   "outputs": [],
   "source": [
    "df_full['Airline'] = le.fit_transform(df_full['Airline'])\n",
    "df_full['Source'] = le.fit_transform(df_full['Source'])\n",
    "df_full['Destination'] = le.fit_transform(df_full['Destination'])\n",
    "df_full['Additional_Info'] = le.fit_transform(df_full['Additional_Info'])\n",
    "df_full['Stop_1'] = le.fit_transform(df_full['Stop_1'])\n",
    "df_full['Stop_2'] = le.fit_transform(df_full['Stop_2'])\n",
    "df_full['Stop_3'] = le.fit_transform(df_full['Stop_3'])\n",
    "df_full['Stop_4'] = le.fit_transform(df_full['Stop_4'])\n",
    "df_full['Stop_5'] = le.fit_transform(df_full['Stop_5'])"
   ]
  },
  {
   "cell_type": "markdown",
   "id": "920f4a95",
   "metadata": {},
   "source": [
    "### Feature Selection"
   ]
  },
  {
   "cell_type": "code",
   "execution_count": 128,
   "id": "d210f2b3",
   "metadata": {},
   "outputs": [],
   "source": [
    "## Separate data into independent and dependent variables\n",
    "y = df_full['Price']\n",
    "X = df_full.drop(['Price'], axis = 1)"
   ]
  },
  {
   "cell_type": "code",
   "execution_count": 129,
   "id": "83a595eb",
   "metadata": {},
   "outputs": [],
   "source": [
    "from sklearn.linear_model import Lasso\n",
    "from sklearn.feature_selection import SelectFromModel"
   ]
  },
  {
   "cell_type": "code",
   "execution_count": 130,
   "id": "01065007",
   "metadata": {},
   "outputs": [],
   "source": [
    "from sklearn.model_selection import train_test_split\n",
    "X_train, X_test, y_train, y_test = train_test_split(X, y, test_size = 0.3, random_state = 0)"
   ]
  },
  {
   "cell_type": "code",
   "execution_count": 48,
   "id": "7ad3e790",
   "metadata": {},
   "outputs": [],
   "source": [
    "model = SelectFromModel(Lasso(alpha = 0.005, random_state = 0))"
   ]
  },
  {
   "cell_type": "code",
   "execution_count": 49,
   "id": "62fcb074",
   "metadata": {},
   "outputs": [
    {
     "data": {
      "text/plain": [
       "SelectFromModel(estimator=Lasso(alpha=0.005, random_state=0))"
      ]
     },
     "execution_count": 49,
     "metadata": {},
     "output_type": "execute_result"
    }
   ],
   "source": [
    "model.fit(X_train, y_train)"
   ]
  },
  {
   "cell_type": "code",
   "execution_count": 50,
   "id": "acac5ec5",
   "metadata": {},
   "outputs": [
    {
     "data": {
      "text/plain": [
       "array([ True,  True,  True,  True,  True,  True,  True,  True,  True,\n",
       "        True,  True,  True, False, False, False, False])"
      ]
     },
     "execution_count": 50,
     "metadata": {},
     "output_type": "execute_result"
    }
   ],
   "source": [
    "model.get_support()"
   ]
  },
  {
   "cell_type": "code",
   "execution_count": 51,
   "id": "9e8ffe21",
   "metadata": {},
   "outputs": [
    {
     "data": {
      "text/plain": [
       "Index(['Airline', 'Source', 'Destination', 'Additional_Info', 'Day', 'Month',\n",
       "       'Num_Stops', 'Departure_Hour', 'Departure_Minute', 'Arrival_Hour',\n",
       "       'Arrival_Minute', 'Stop_1'],\n",
       "      dtype='object')"
      ]
     },
     "execution_count": 51,
     "metadata": {},
     "output_type": "execute_result"
    }
   ],
   "source": [
    "selected_features = X_train.columns[(model.get_support())]\n",
    "selected_features"
   ]
  },
  {
   "cell_type": "code",
   "execution_count": 52,
   "id": "4f52ee61",
   "metadata": {},
   "outputs": [],
   "source": [
    "from sklearn.ensemble import ExtraTreesRegressor"
   ]
  },
  {
   "cell_type": "code",
   "execution_count": 53,
   "id": "edfbff4a",
   "metadata": {},
   "outputs": [],
   "source": [
    "etr = ExtraTreesRegressor()"
   ]
  },
  {
   "cell_type": "code",
   "execution_count": 54,
   "id": "c59d647e",
   "metadata": {},
   "outputs": [
    {
     "data": {
      "text/plain": [
       "ExtraTreesRegressor()"
      ]
     },
     "execution_count": 54,
     "metadata": {},
     "output_type": "execute_result"
    }
   ],
   "source": [
    "etr.fit(X_train, y_train)"
   ]
  },
  {
   "cell_type": "code",
   "execution_count": 55,
   "id": "a3efed36",
   "metadata": {},
   "outputs": [
    {
     "data": {
      "image/png": "[encoded data removed]",
      "text/plain": [
       "<Figure size 1080x576 with 1 Axes>"
      ]
     },
     "metadata": {},
     "output_type": "display_data"
    }
   ],
   "source": [
    "plt.style.use('ggplot')\n",
    "plt.figure(figsize = (15,8))\n",
    "feature_importance = pd.Series(etr.feature_importances_, index = X.columns)\n",
    "feature_importance.nlargest(35).plot(kind = 'bar')\n",
    "plt.show()"
   ]
  },
  {
   "cell_type": "code",
   "execution_count": 56,
   "id": "4ff259ba",
   "metadata": {},
   "outputs": [
    {
     "data": {
      "text/plain": [
       "RandomForestRegressor()"
      ]
     },
     "execution_count": 56,
     "metadata": {},
     "output_type": "execute_result"
    }
   ],
   "source": [
    "from sklearn.ensemble import RandomForestRegressor \n",
    "reg_rf = RandomForestRegressor()\n",
    "reg_rf.fit(X_train, y_train)"
   ]
  },
  {
   "cell_type": "code",
   "execution_count": 57,
   "id": "9533c40e",
   "metadata": {},
   "outputs": [],
   "source": [
    "y_pred = reg_rf.predict(X_test)"
   ]
  },
  {
   "cell_type": "code",
   "execution_count": 58,
   "id": "87d56736",
   "metadata": {},
   "outputs": [
    {
     "data": {
      "text/plain": [
       "0.9473606528398963"
      ]
     },
     "execution_count": 58,
     "metadata": {},
     "output_type": "execute_result"
    }
   ],
   "source": [
    "reg_rf.score(X_train, y_train)"
   ]
  },
  {
   "cell_type": "code",
   "execution_count": 59,
   "id": "80550c35",
   "metadata": {},
   "outputs": [
    {
     "data": {
      "text/plain": [
       "0.6200387515426096"
      ]
     },
     "execution_count": 59,
     "metadata": {},
     "output_type": "execute_result"
    }
   ],
   "source": [
    "reg_rf.score(X_test, y_test)"
   ]
  },
  {
   "cell_type": "code",
   "execution_count": 60,
   "id": "54d30c54",
   "metadata": {},
   "outputs": [
    {
     "name": "stderr",
     "output_type": "stream",
     "text": [
      "/Users/nukagvilia/opt/anaconda3/lib/python3.8/site-packages/seaborn/distributions.py:2557: FutureWarning: `distplot` is a deprecated function and will be removed in a future version. Please adapt your code to use either `displot` (a figure-level function with similar flexibility) or `histplot` (an axes-level function for histograms).\n",
      "  warnings.warn(msg, FutureWarning)\n"
     ]
    },
    {
     "data": {
      "image/png": "[encoded data removed]",
      "text/plain": [
       "<Figure size 864x576 with 1 Axes>"
      ]
     },
     "metadata": {},
     "output_type": "display_data"
    }
   ],
   "source": [
    "plt.style.use('ggplot')\n",
    "plt.figure(figsize = (12, 8))\n",
    "sns.distplot(y_test - y_pred)\n",
    "plt.show()"
   ]
  },
  {
   "cell_type": "markdown",
   "id": "76a238fc",
   "metadata": {},
   "source": [
    "This distribution is centered around 0, which means that most predictions match the true y values. "
   ]
  },
  {
   "cell_type": "code",
   "execution_count": 61,
   "id": "1af879d0",
   "metadata": {},
   "outputs": [
    {
     "data": {
      "image/png": "[encoded data removed]",
      "text/plain": [
       "<Figure size 864x576 with 1 Axes>"
      ]
     },
     "metadata": {},
     "output_type": "display_data"
    }
   ],
   "source": [
    "plt.figure(figsize = (12,8))\n",
    "plt.style.use('ggplot')\n",
    "plt.scatter(y_test, y_pred, alpha = 0.5)\n",
    "plt.xlabel('y_test')\n",
    "plt.ylabel('y_pred')\n",
    "plt.show()"
   ]
  },
  {
   "cell_type": "code",
   "execution_count": 62,
   "id": "76467c47",
   "metadata": {},
   "outputs": [
    {
     "name": "stdout",
     "output_type": "stream",
     "text": [
      "MAE: 1531.6219481668513\n",
      "MSE: 6317158.275832374\n",
      "RMSE: 2513.3957658578906\n"
     ]
    }
   ],
   "source": [
    "from sklearn import metrics \n",
    "\n",
    "print('MAE:', metrics.mean_absolute_error(y_test, y_pred))\n",
    "print('MSE:', metrics.mean_squared_error(y_test, y_pred))\n",
    "print('RMSE:', np.sqrt(metrics.mean_squared_error(y_test, y_pred)))"
   ]
  },
  {
   "cell_type": "code",
   "execution_count": 63,
   "id": "e8c7db1b",
   "metadata": {},
   "outputs": [
    {
     "data": {
      "text/plain": [
       "0.6200387515426096"
      ]
     },
     "execution_count": 63,
     "metadata": {},
     "output_type": "execute_result"
    }
   ],
   "source": [
    "metrics.r2_score(y_test, y_pred)"
   ]
  },
  {
   "cell_type": "markdown",
   "id": "d84859d9",
   "metadata": {},
   "source": [
    "### Hypertuning the model parameters"
   ]
  },
  {
   "cell_type": "code",
   "execution_count": 64,
   "id": "049970cb",
   "metadata": {},
   "outputs": [],
   "source": [
    "from sklearn.model_selection import RandomizedSearchCV"
   ]
  },
  {
   "cell_type": "code",
   "execution_count": 65,
   "id": "49cc477c",
   "metadata": {},
   "outputs": [],
   "source": [
    "# Number of trees \n",
    "n_estimators = [int(x) for x in np.linspace(start = 64, stop = 128, num = 10)]\n",
    "# Number of features \n",
    "max_features = ['auto', 'sqrt']\n",
    "# Maximum depth\n",
    "max_depth = [int(x) for x in np.linspace(5, 30, num = 6)]\n",
    "# Minimum samples to split \n",
    "min_samples_split = [2, 5, 10, 15]\n",
    "# Minimum number of samples at each leaf node \n",
    "min_samples_leaf = [2, 5, 10]"
   ]
  },
  {
   "cell_type": "code",
   "execution_count": 66,
   "id": "a9f29e88",
   "metadata": {},
   "outputs": [],
   "source": [
    "param_grid = {'n_estimators': n_estimators,\n",
    "               'max_features': max_features,\n",
    "               'max_depth': max_depth,\n",
    "               'min_samples_split': min_samples_split,\n",
    "               'min_samples_leaf': min_samples_leaf}"
   ]
  },
  {
   "cell_type": "code",
   "execution_count": 67,
   "id": "b29d007d",
   "metadata": {},
   "outputs": [],
   "source": [
    "rf_randomCV = RandomizedSearchCV(estimator = reg_rf, param_distributions = param_grid,scoring='neg_mean_squared_error', n_iter = 50, cv = 5,\n",
    "                               verbose=2, random_state=42, n_jobs = -1)"
   ]
  },
  {
   "cell_type": "code",
   "execution_count": 68,
   "id": "f3e73545",
   "metadata": {},
   "outputs": [
    {
     "name": "stdout",
     "output_type": "stream",
     "text": [
      "Fitting 5 folds for each of 50 candidates, totalling 250 fits\n"
     ]
    },
    {
     "data": {
      "text/plain": [
       "RandomizedSearchCV(cv=5, estimator=RandomForestRegressor(), n_iter=50,\n",
       "                   n_jobs=-1,\n",
       "                   param_distributions={'max_depth': [5, 10, 15, 20, 25, 30],\n",
       "                                        'max_features': ['auto', 'sqrt'],\n",
       "                                        'min_samples_leaf': [2, 5, 10],\n",
       "                                        'min_samples_split': [2, 5, 10, 15],\n",
       "                                        'n_estimators': [64, 71, 78, 85, 92, 99,\n",
       "                                                         106, 113, 120, 128]},\n",
       "                   random_state=42, scoring='neg_mean_squared_error',\n",
       "                   verbose=2)"
      ]
     },
     "execution_count": 68,
     "metadata": {},
     "output_type": "execute_result"
    }
   ],
   "source": [
    "rf_randomCV.fit(X_train, y_train)"
   ]
  },
  {
   "cell_type": "code",
   "execution_count": 69,
   "id": "18c15952",
   "metadata": {},
   "outputs": [
    {
     "data": {
      "text/plain": [
       "{'n_estimators': 64,\n",
       " 'min_samples_split': 2,\n",
       " 'min_samples_leaf': 2,\n",
       " 'max_features': 'sqrt',\n",
       " 'max_depth': 25}"
      ]
     },
     "execution_count": 69,
     "metadata": {},
     "output_type": "execute_result"
    }
   ],
   "source": [
    "rf_randomCV.best_params_"
   ]
  },
  {
   "cell_type": "code",
   "execution_count": 70,
   "id": "4b829bd9",
   "metadata": {},
   "outputs": [],
   "source": [
    "rf_model = RandomForestRegressor(n_estimators= 700,\n",
    " min_samples_split=3,\n",
    " min_samples_leaf= 1,\n",
    " max_features='sqrt',\n",
    " max_depth= 15)"
   ]
  },
  {
   "cell_type": "code",
   "execution_count": 80,
   "id": "605aab65",
   "metadata": {},
   "outputs": [],
   "source": [
    "rf_model.fit(X_train, y_train)\n",
    "fit = rf_model.fit(X_train, y_train)"
   ]
  },
  {
   "cell_type": "code",
   "execution_count": 72,
   "id": "3de75e0c",
   "metadata": {},
   "outputs": [],
   "source": [
    "pred_1 = rf_model.predict(X_test)"
   ]
  },
  {
   "cell_type": "code",
   "execution_count": 73,
   "id": "dc4d400e",
   "metadata": {
    "scrolled": true
   },
   "outputs": [
    {
     "name": "stderr",
     "output_type": "stream",
     "text": [
      "/Users/nukagvilia/opt/anaconda3/lib/python3.8/site-packages/seaborn/distributions.py:2557: FutureWarning: `distplot` is a deprecated function and will be removed in a future version. Please adapt your code to use either `displot` (a figure-level function with similar flexibility) or `histplot` (an axes-level function for histograms).\n",
      "  warnings.warn(msg, FutureWarning)\n"
     ]
    },
    {
     "data": {
      "text/plain": [
       "<AxesSubplot:xlabel='Price', ylabel='Density'>"
      ]
     },
     "execution_count": 73,
     "metadata": {},
     "output_type": "execute_result"
    },
    {
     "data": {
      "image/png": "[encoded data removed]",
      "text/plain": [
       "<Figure size 864x504 with 1 Axes>"
      ]
     },
     "metadata": {},
     "output_type": "display_data"
    }
   ],
   "source": [
    "plt.style.use(\"ggplot\")\n",
    "plt.figure(figsize=(12,7))\n",
    "sns.distplot(y_test-pred_1)"
   ]
  },
  {
   "cell_type": "code",
   "execution_count": 74,
   "id": "b522b864",
   "metadata": {},
   "outputs": [
    {
     "name": "stdout",
     "output_type": "stream",
     "text": [
      "MAE: 1568.9971951825285\n",
      "MSE: 6070187.035896615\n",
      "RMSE: 2463.77495642289\n"
     ]
    },
    {
     "data": {
      "text/plain": [
       "0.6348934530652963"
      ]
     },
     "execution_count": 74,
     "metadata": {},
     "output_type": "execute_result"
    }
   ],
   "source": [
    "print('MAE:', metrics.mean_absolute_error(y_test, pred_1))\n",
    "print('MSE:', metrics.mean_squared_error(y_test, pred_1))\n",
    "print('RMSE:', np.sqrt(metrics.mean_squared_error(y_test, pred_1)))\n",
    "metrics.r2_score(y_test, pred_1)"
   ]
  },
  {
   "cell_type": "code",
   "execution_count": 78,
   "id": "19a46fbd",
   "metadata": {},
   "outputs": [
    {
     "data": {
      "text/html": [
       "<div>\n",
       "<style scoped>\n",
       "    .dataframe tbody tr th:only-of-type {\n",
       "        vertical-align: middle;\n",
       "    }\n",
       "\n",
       "    .dataframe tbody tr th {\n",
       "        vertical-align: top;\n",
       "    }\n",
       "\n",
       "    .dataframe thead th {\n",
       "        text-align: right;\n",
       "    }\n",
       "</style>\n",
       "<table border=\"1\" class=\"dataframe\">\n",
       "  <thead>\n",
       "    <tr style=\"text-align: right;\">\n",
       "      <th></th>\n",
       "      <th>Airline</th>\n",
       "      <th>Source</th>\n",
       "      <th>Destination</th>\n",
       "      <th>Additional_Info</th>\n",
       "      <th>Price</th>\n",
       "      <th>Day</th>\n",
       "      <th>Month</th>\n",
       "      <th>Num_Stops</th>\n",
       "      <th>Departure_Hour</th>\n",
       "      <th>Departure_Minute</th>\n",
       "      <th>Arrival_Hour</th>\n",
       "      <th>Arrival_Minute</th>\n",
       "      <th>Stop_1</th>\n",
       "      <th>Stop_2</th>\n",
       "      <th>Stop_3</th>\n",
       "      <th>Stop_4</th>\n",
       "      <th>Stop_5</th>\n",
       "    </tr>\n",
       "  </thead>\n",
       "  <tbody>\n",
       "    <tr>\n",
       "      <th>0</th>\n",
       "      <td>3</td>\n",
       "      <td>0</td>\n",
       "      <td>5</td>\n",
       "      <td>8</td>\n",
       "      <td>3897.0</td>\n",
       "      <td>24</td>\n",
       "      <td>3</td>\n",
       "      <td>0</td>\n",
       "      <td>22</td>\n",
       "      <td>20</td>\n",
       "      <td>01</td>\n",
       "      <td>10</td>\n",
       "      <td>18</td>\n",
       "      <td>0</td>\n",
       "      <td>0</td>\n",
       "      <td>0</td>\n",
       "      <td>0</td>\n",
       "    </tr>\n",
       "    <tr>\n",
       "      <th>1</th>\n",
       "      <td>1</td>\n",
       "      <td>3</td>\n",
       "      <td>0</td>\n",
       "      <td>8</td>\n",
       "      <td>7662.0</td>\n",
       "      <td>1</td>\n",
       "      <td>5</td>\n",
       "      <td>2</td>\n",
       "      <td>05</td>\n",
       "      <td>50</td>\n",
       "      <td>13</td>\n",
       "      <td>15</td>\n",
       "      <td>87</td>\n",
       "      <td>0</td>\n",
       "      <td>0</td>\n",
       "      <td>0</td>\n",
       "      <td>0</td>\n",
       "    </tr>\n",
       "    <tr>\n",
       "      <th>2</th>\n",
       "      <td>4</td>\n",
       "      <td>2</td>\n",
       "      <td>1</td>\n",
       "      <td>8</td>\n",
       "      <td>13882.0</td>\n",
       "      <td>9</td>\n",
       "      <td>6</td>\n",
       "      <td>2</td>\n",
       "      <td>09</td>\n",
       "      <td>25</td>\n",
       "      <td>04</td>\n",
       "      <td>25</td>\n",
       "      <td>122</td>\n",
       "      <td>0</td>\n",
       "      <td>0</td>\n",
       "      <td>0</td>\n",
       "      <td>0</td>\n",
       "    </tr>\n",
       "    <tr>\n",
       "      <th>3</th>\n",
       "      <td>3</td>\n",
       "      <td>3</td>\n",
       "      <td>0</td>\n",
       "      <td>8</td>\n",
       "      <td>6218.0</td>\n",
       "      <td>12</td>\n",
       "      <td>5</td>\n",
       "      <td>1</td>\n",
       "      <td>18</td>\n",
       "      <td>05</td>\n",
       "      <td>23</td>\n",
       "      <td>30</td>\n",
       "      <td>95</td>\n",
       "      <td>0</td>\n",
       "      <td>0</td>\n",
       "      <td>0</td>\n",
       "      <td>0</td>\n",
       "    </tr>\n",
       "    <tr>\n",
       "      <th>4</th>\n",
       "      <td>3</td>\n",
       "      <td>0</td>\n",
       "      <td>5</td>\n",
       "      <td>8</td>\n",
       "      <td>13302.0</td>\n",
       "      <td>1</td>\n",
       "      <td>3</td>\n",
       "      <td>1</td>\n",
       "      <td>16</td>\n",
       "      <td>50</td>\n",
       "      <td>21</td>\n",
       "      <td>35</td>\n",
       "      <td>29</td>\n",
       "      <td>0</td>\n",
       "      <td>0</td>\n",
       "      <td>0</td>\n",
       "      <td>0</td>\n",
       "    </tr>\n",
       "  </tbody>\n",
       "</table>\n",
       "</div>"
      ],
      "text/plain": [
       "   Airline  Source  Destination  Additional_Info    Price  Day  Month  \\\n",
       "0        3       0            5                8   3897.0   24      3   \n",
       "1        1       3            0                8   7662.0    1      5   \n",
       "2        4       2            1                8  13882.0    9      6   \n",
       "3        3       3            0                8   6218.0   12      5   \n",
       "4        3       0            5                8  13302.0    1      3   \n",
       "\n",
       "   Num_Stops Departure_Hour Departure_Minute Arrival_Hour Arrival_Minute  \\\n",
       "0          0             22               20           01             10   \n",
       "1          2             05               50           13             15   \n",
       "2          2             09               25           04             25   \n",
       "3          1             18               05           23             30   \n",
       "4          1             16               50           21             35   \n",
       "\n",
       "   Stop_1  Stop_2  Stop_3  Stop_4  Stop_5  \n",
       "0      18       0       0       0       0  \n",
       "1      87       0       0       0       0  \n",
       "2     122       0       0       0       0  \n",
       "3      95       0       0       0       0  \n",
       "4      29       0       0       0       0  "
      ]
     },
     "execution_count": 78,
     "metadata": {},
     "output_type": "execute_result"
    }
   ],
   "source": [
    "df_full.head()"
   ]
  },
  {
   "cell_type": "code",
   "execution_count": 83,
   "id": "757f63de",
   "metadata": {},
   "outputs": [],
   "source": [
    "df_full.to_csv(r'/Users/nukagvilia/Desktop/MyProjects/Project Code and Files\\Adjusted.csv')"
   ]
  },
  {
   "cell_type": "code",
   "execution_count": 84,
   "id": "51f05c64",
   "metadata": {},
   "outputs": [],
   "source": [
    "import autosklearn"
   ]
  },
  {
   "cell_type": "code",
   "execution_count": 85,
   "id": "1ead4f32",
   "metadata": {},
   "outputs": [],
   "source": [
    "import autosklearn.regression as reg"
   ]
  },
  {
   "cell_type": "code",
   "execution_count": 86,
   "id": "5abb4e3d",
   "metadata": {},
   "outputs": [],
   "source": [
    "auto_reg = reg.AutoSklearnRegressor(time_left_for_this_task=120,per_run_time_limit=30)"
   ]
  },
  {
   "cell_type": "code",
   "execution_count": 132,
   "id": "e53245db",
   "metadata": {},
   "outputs": [
    {
     "data": {
      "text/plain": [
       "Airline              int64\n",
       "Source               int64\n",
       "Destination          int64\n",
       "Additional_Info      int64\n",
       "Day                  int64\n",
       "Month                int64\n",
       "Num_Stops            int64\n",
       "Departure_Hour      object\n",
       "Departure_Minute    object\n",
       "Arrival_Hour        object\n",
       "Arrival_Minute      object\n",
       "Stop_1               int64\n",
       "Stop_2               int64\n",
       "Stop_3               int64\n",
       "Stop_4               int64\n",
       "Stop_5               int64\n",
       "dtype: object"
      ]
     },
     "execution_count": 132,
     "metadata": {},
     "output_type": "execute_result"
    }
   ],
   "source": [
    "X_train.dtypes"
   ]
  },
  {
   "cell_type": "code",
   "execution_count": 134,
   "id": "606e303c",
   "metadata": {},
   "outputs": [],
   "source": [
    "df_full['Departure_Hour'] = df_full['Departure_Hour'].astype('category')\n",
    "df_full['Departure_Minute'] = df_full['Departure_Hour'].astype('category')\n",
    "df_full['Arrival_Hour'] = df_full['Departure_Hour'].astype('category')\n",
    "df_full['Arrival_Minute'] = df_full['Departure_Hour'].astype('category')"
   ]
  },
  {
   "cell_type": "code",
   "execution_count": 135,
   "id": "86ceed4b",
   "metadata": {},
   "outputs": [
    {
     "data": {
      "text/plain": [
       "Airline                int64\n",
       "Source                 int64\n",
       "Destination            int64\n",
       "Additional_Info        int64\n",
       "Price                float64\n",
       "Day                    int64\n",
       "Month                  int64\n",
       "Num_Stops              int64\n",
       "Departure_Hour      category\n",
       "Departure_Minute    category\n",
       "Arrival_Hour        category\n",
       "Arrival_Minute      category\n",
       "Stop_1                 int64\n",
       "Stop_2                 int64\n",
       "Stop_3                 int64\n",
       "Stop_4                 int64\n",
       "Stop_5                 int64\n",
       "dtype: object"
      ]
     },
     "execution_count": 135,
     "metadata": {},
     "output_type": "execute_result"
    }
   ],
   "source": [
    "df_full.dtypes"
   ]
  },
  {
   "cell_type": "code",
   "execution_count": 136,
   "id": "cb00c769",
   "metadata": {},
   "outputs": [],
   "source": [
    "from sklearn.model_selection import train_test_split\n",
    "X_train, X_test, y_train, y_test = train_test_split(X, y, test_size = 0.3, random_state = 0)"
   ]
  },
  {
   "cell_type": "code",
   "execution_count": 1,
   "id": "a6fb6efc",
   "metadata": {},
   "outputs": [],
   "source": [
    "auto_reg.fit(X_train,y_train)"
   ]
  },
  {
   "cell_type": "code",
   "execution_count": 144,
   "id": "6214f158",
   "metadata": {},
   "outputs": [
    {
     "data": {
      "text/plain": [
       "Airline                int64\n",
       "Source                 int64\n",
       "Destination            int64\n",
       "Additional_Info        int64\n",
       "Day                    int64\n",
       "Month                  int64\n",
       "Num_Stops              int64\n",
       "Departure_Hour      category\n",
       "Departure_Minute    category\n",
       "Arrival_Hour        category\n",
       "Arrival_Minute      category\n",
       "Stop_1                 int64\n",
       "Stop_2                 int64\n",
       "Stop_3                 int64\n",
       "Stop_4                 int64\n",
       "Stop_5                 int64\n",
       "dtype: object"
      ]
     },
     "execution_count": 144,
     "metadata": {},
     "output_type": "execute_result"
    }
   ],
   "source": [
    "X_train.dtypes"
   ]
  },
  {
   "cell_type": "code",
   "execution_count": 145,
   "id": "8c435a29",
   "metadata": {},
   "outputs": [
    {
     "data": {
      "text/plain": [
       "AutoSklearnRegressor(per_run_time_limit=30, time_left_for_this_task=120)"
      ]
     },
     "execution_count": 145,
     "metadata": {},
     "output_type": "execute_result"
    }
   ],
   "source": [
    "auto_reg.fit(X_train, y_train)"
   ]
  },
  {
   "cell_type": "code",
   "execution_count": 147,
   "id": "837c92f4",
   "metadata": {},
   "outputs": [
    {
     "name": "stdout",
     "output_type": "stream",
     "text": [
      "          rank  ensemble_weight               type      cost   duration\n",
      "model_id                                                               \n",
      "5            1             0.66  gradient_boosting  0.281473   1.869451\n",
      "4            2             0.24  gradient_boosting  0.299268   3.246379\n",
      "9            3             0.10        extra_trees  0.348530  21.264544\n"
     ]
    }
   ],
   "source": [
    "print(auto_reg.leaderboard())"
   ]
  },
  {
   "cell_type": "code",
   "execution_count": 149,
   "id": "a1bf3ab7",
   "metadata": {},
   "outputs": [],
   "source": [
    "y_pred_auto = auto_reg.predict(X_test)"
   ]
  },
  {
   "cell_type": "code",
   "execution_count": 151,
   "id": "97c442e5",
   "metadata": {},
   "outputs": [
    {
     "name": "stdout",
     "output_type": "stream",
     "text": [
      "MAE: 1595.6438551623335\n",
      "MSE: 6268056.223031834\n",
      "RMSE: 2503.608640149621\n"
     ]
    },
    {
     "data": {
      "text/plain": [
       "0.6229921170384987"
      ]
     },
     "execution_count": 151,
     "metadata": {},
     "output_type": "execute_result"
    }
   ],
   "source": [
    "print('MAE:', metrics.mean_absolute_error(y_test, y_pred_auto))\n",
    "print('MSE:', metrics.mean_squared_error(y_test, y_pred_auto))\n",
    "print('RMSE:', np.sqrt(metrics.mean_squared_error(y_test, y_pred_auto)))\n",
    "metrics.r2_score(y_test, y_pred_auto)"
   ]
  }
 ],
 "metadata": {
  "kernelspec": {
   "display_name": "Python 3",
   "language": "python",
   "name": "python3"
  },
  "language_info": {
   "codemirror_mode": {
    "name": "ipython",
    "version": 3
   },
   "file_extension": ".py",
   "mimetype": "text/x-python",
   "name": "python",
   "nbconvert_exporter": "python",
   "pygments_lexer": "ipython3",
   "version": "3.8.8"
  }
 },
 "nbformat": 4,
 "nbformat_minor": 5
}
